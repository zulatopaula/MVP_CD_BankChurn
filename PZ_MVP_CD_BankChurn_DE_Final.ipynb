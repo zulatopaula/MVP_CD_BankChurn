{
  "cells": [
    {
      "cell_type": "markdown",
      "metadata": {
        "id": "view-in-github",
        "colab_type": "text"
      },
      "source": [
        "<a href=\"https://colab.research.google.com/github/zulatopaula/MVP_CD_BankChurn/blob/main/PZ_MVP_CD_BankChurn_DE_Final.ipynb\" target=\"_parent\"><img src=\"https://colab.research.google.com/assets/colab-badge.svg\" alt=\"Open In Colab\"/></a>"
      ]
    },
    {
      "cell_type": "markdown",
      "metadata": {
        "application/vnd.databricks.v1+cell": {
          "cellMetadata": {
            "byteLimit": 2048000,
            "rowLimit": 10000
          },
          "inputWidgets": {},
          "nuid": "17dd3a8c-aa28-4b78-9997-7047ea6df22e",
          "showTitle": false,
          "title": ""
        },
        "id": "FWuuC-u6E-Q9"
      },
      "source": [
        "# MVP de Engenharia de Dados\n",
        "## Profs. Victor Almeida e Silvio Alonso\n",
        "### Aluna: Paula Zulato"
      ]
    },
    {
      "cell_type": "markdown",
      "metadata": {
        "application/vnd.databricks.v1+cell": {
          "cellMetadata": {
            "byteLimit": 2048000,
            "rowLimit": 10000
          },
          "inputWidgets": {},
          "nuid": "bccd1f00-6398-4f9d-8b4e-a64495adf953",
          "showTitle": false,
          "title": ""
        },
        "id": "eNb3OYWDE-Q-"
      },
      "source": [
        "# 1. Introdução e Definição do Objetivo\n",
        "## Customer Churn\n",
        "Todo empresa quer manter seus clientes para sustentar seus negócios e com um banco não é diferente. Adquirir novos clientes tem um alto custo, normalmente maior que o custo de reter um cliente.\n",
        "Abaixo estão os dados dos clientes do ABC Multinational Bank e o objetivo da análise dos dados será prever a rotatividade de clientes (Churn Prediction).\n",
        "\n",
        "*\"O Churn é uma métrica que indica o quanto sua empresa perdeu de receita ou clientes. Para calcular o Churn, basta dividir a quantidade de clientes que perdeu até o final do período pelo total de clientes que iniciaram. Exemplo: se você perdeu 10 clientes de 100 = 10% de Churn Rate\" (Fonte: https://resultadosdigitais.com.br/marketing/o-que-e-churn/).*\n",
        "\n",
        "O dataset usado neste projeto será o Bank Customer Churn Data, com informações de correntintas do banco ABC Multinacional Bank referente a um período de um mês (31/07/2022 a 29/08/2022). O dataset apresenta diversos atributos relacionados a dados de cliente, os produtos bancários consumidos por estes clientes e o balanço da conta bancária. Também possui uma variável de classe binária (0 ou 1) que indica se em algum momento este cliente já deixou o banco por algum período (1) ou se ele nunca deixou o banco (0). Para mais detalhes sobre este dataset, consulte: https://www.kaggle.com/datasets/gauravtopre/bank-customer-churn-dataset/data\n",
        "\n",
        "**Informações sobre os atributos:**\n",
        "\n",
        "1. **customer_id** - Identificador único do cliente\n",
        "2. **credit_score** - Valor numérico que indica a saúde de crédito de um cliente, geralmente emitido por um Bureau de Crédito\n",
        "3. **country** - País de Origem de um cliente\n",
        "4. **gender** - Identificação de gênero do cliente\n",
        "5. **age** - Idade do cliente em anos\n",
        "6. **tenure** - Tempo de existência da conta em anos\n",
        "7. **balance** - Valor monetário total de depósito em conta\n",
        "8. **products_number** - A quantidade de produtos do banco que um cliente possui\n",
        "9. **credit_card** - Indica se o cliente possui cartão de crédito (1) ou não (0)\n",
        "10. **active_member** - Indica se o cliente está ativo (1) ou não (0)\n",
        "11. **estimated_salary** - Salário estimado do cliente\n",
        "12. **churn** - Indica se o cliente já deixou a base em algum momento (1) ou não (0)\n",
        "\n",
        "O objetivo deste estudo com fins didáticos é demonstrar a criação de um pipeline de dados usando o framework \"medallium\" através da plataforma de lakehouse Databricks com Delta Live Tables e montando uma stack de dados utilizando serviços AWS. Serão demonstrados o processo de coleta de dados, modelagem e carga. Então, algumas premissas de análise exploratória serão utilizadas para demonstrar o funcionamento desta infraestrutura e como um problemas de dados pode ser resolvido. Para o problema de dados, serão consideradas algumas premissas.\n",
        "\n",
        "Como premissas ou hipóteses sobre este problemas, poderíamos prever que o Churn de o cliente pode ser gerado por exemplo por questões econômicas como por exemplo a faixa salarial, ou pode estar relacionado a idade do cliente onde os mais jovens ou mais velhos podem ter uma frequência de abandono maior por ter uma renda não tão previsível ou que está ainda em crescimento (no caso dos mais jovens) ou que pode estar em declínio no caso dos mais velhos). O baixo Score de Crédito também pode ser um motivo para o Churn. Considerando estes pontos de hipóteses, seguirei primeiro com a demonstração da criação do pipeline de dados e depois para a análise dos dados.\n",
        "\n",
        "Observação: Lancei mão do Python em algumas situações por ter mais expertise nele que no SQL. Faço o 'disclaimer' de que o uso do SQL é mais adequado em situações reais considerando que ele é uma linguagem para gerenciar dados, especialmente em relational database management system. Particularmente útil para lidar com dados estruturadas. Também fiz uso do PySpark."
      ]
    },
    {
      "cell_type": "markdown",
      "metadata": {
        "application/vnd.databricks.v1+cell": {
          "cellMetadata": {
            "byteLimit": 2048000,
            "rowLimit": 10000
          },
          "inputWidgets": {},
          "nuid": "401d393a-2f1b-4f33-bef5-1e4f77b5857d",
          "showTitle": false,
          "title": ""
        },
        "id": "GtTETESyE-Q_"
      },
      "source": [
        "# 2. Coleta e armazenamento dos Dados\n",
        "## Coleta\n",
        "Optei por baixar o dataset do Kaggle e armazenar uma cópia dele no meu GitHub (https://github.com/zulatopaula/MVP_CD_BankChurn). O dataset que já vinha sendo utilizados para as outras duas sprints anteriores e foi carregado manualmente para um Storage na Cloud AWS usando o serviço \"Amazon S3 Storage\" de nome \"_databricks-workspace-stack-f4cd3-bucket_\". Para fins de segurança o Storage foi mantido como privado e utilizando o padrão de encriptação \"SSE-S3\".\n",
        "\n",
        "**Figura 1**\n",
        "\n",
        "\n",
        "## Armazenamento e transferência de dados\n",
        "Optei por realizar a comunicão entre a plataforma de lakehouse Databricks e a Cloud AWS comunicando meu bucket do \"Amazon S3 Storage\" diretamente com o serviço de Cluster da Databricks. Para isso, usei os serviços de _roles_ e policy da AWS para gerar esta comunicação com o meu Databricks Cluster, \"Paula Zulato's Cluster\". Usei a _role_ \"ec2_role\" e a _policy_ \"ec2_policy\". Optei pelo uso de um cluster Single Node para fins didáticos e por limitação de custos, porém, a depender do workload  que for gerado para um cenário real e a depender da criticidade e impacto que a falha deste workload possa gerar para o business em questão, é recomendada a utilização de um cluster multi-node mitigando falhas.\n",
        "\n",
        "**Figura 2**\n",
        "\n",
        "\n",
        "**Figura 3**\n",
        "\n",
        "\n"
      ]
    },
    {
      "cell_type": "markdown",
      "metadata": {
        "application/vnd.databricks.v1+cell": {
          "cellMetadata": {
            "byteLimit": 2048000,
            "rowLimit": 10000
          },
          "inputWidgets": {},
          "nuid": "2e811c72-cca0-4d62-bdad-25c34d572f53",
          "showTitle": false,
          "title": ""
        },
        "id": "z-bla5N9E-RA"
      },
      "source": [
        "# 3. Carga/ETL e Pipeline de Dados com framework Medallium\n",
        "## Carga\n",
        "Para a carga\n",
        "\n",
        "**Figura 1**\n",
        "\n",
        "\n",
        "## Armazenamento e transferência de dados\n",
        "Optei por realizar a comunicação entre a plataforma de lakehouse Databricks e a Cloud AWS comunicando meu bucket do \"Amazon S3 Storage\" diretamente com o serviço de Cluster da Databricks. Para isso, usei os serviços de _roles_ e policy da AWS para gerar esta comunicação com o meu Databricks Cluster, \"Paula Zulato's Cluster\". Usei a _role_ \"ec2_role\" e a _policy_ \"ec2_policy\".\n",
        "\n",
        "**Figura 2**\n",
        "\n",
        "\n",
        "**Figura 3**"
      ]
    },
    {
      "cell_type": "code",
      "execution_count": null,
      "metadata": {
        "application/vnd.databricks.v1+cell": {
          "cellMetadata": {
            "byteLimit": 2048000,
            "rowLimit": 10000
          },
          "inputWidgets": {},
          "nuid": "e20a1be2-b694-4470-b791-ff96a57bbd25",
          "showTitle": false,
          "title": ""
        },
        "id": "2h6LbsyuE-RA"
      },
      "outputs": [],
      "source": [
        "from pyspark.sql.functions import *\n",
        "from pyspark.sql.types import *\n",
        "import dlt\n",
        "from pyspark.sql.functions import col\n",
        "import pandas as pd\n",
        "from pyspark.sql.functions import when, col"
      ]
    },
    {
      "cell_type": "code",
      "execution_count": null,
      "metadata": {
        "application/vnd.databricks.v1+cell": {
          "cellMetadata": {
            "byteLimit": 2048000,
            "rowLimit": 10000
          },
          "inputWidgets": {},
          "nuid": "fcecfd83-c671-4b9e-9f60-bbbe66b28e64",
          "showTitle": false,
          "title": ""
        },
        "id": "UoZTlzHJE-RA"
      },
      "outputs": [],
      "source": [
        "#Comunicação com o Amazon S3 Storage para acessar o CSV\n",
        "csv_path = \"s3://databricks-workspace-stack-f4cd3-bucket/Bank_Customer_Churn_Prediction.csv\"\n"
      ]
    },
    {
      "cell_type": "markdown",
      "metadata": {
        "application/vnd.databricks.v1+cell": {
          "cellMetadata": {},
          "inputWidgets": {},
          "nuid": "21285a7c-9e3d-4827-984e-9c65830b9292",
          "showTitle": false,
          "title": ""
        },
        "id": "SagMW0RZE-RB"
      },
      "source": [
        "## Criação de uma Arquitetura Medallium\n",
        "Camada Bronze"
      ]
    },
    {
      "cell_type": "code",
      "execution_count": null,
      "metadata": {
        "application/vnd.databricks.v1+cell": {
          "cellMetadata": {
            "byteLimit": 2048000,
            "implicitDf": true,
            "rowLimit": 10000
          },
          "inputWidgets": {},
          "nuid": "dc11a1b1-f006-47b8-a599-1e2aa13f4f7e",
          "showTitle": false,
          "title": ""
        },
        "id": "5vP9Z9THE-RB",
        "outputId": "c118b905-35fd-4924-b8b7-922a7e435196"
      },
      "outputs": [
        {
          "output_type": "display_data",
          "data": {
            "text/html": [
              "<style scoped>\n",
              "  .table-result-container {\n",
              "    max-height: 300px;\n",
              "    overflow: auto;\n",
              "  }\n",
              "  table, th, td {\n",
              "    border: 1px solid black;\n",
              "    border-collapse: collapse;\n",
              "  }\n",
              "  th, td {\n",
              "    padding: 5px;\n",
              "  }\n",
              "  th {\n",
              "    text-align: left;\n",
              "  }\n",
              "</style><div class='table-result-container'><table class='table-result'><thead style='background-color: white'><tr></tr></thead><tbody></tbody></table></div>"
            ]
          },
          "metadata": {
            "application/vnd.databricks.v1+output": {
              "addedWidgets": {},
              "aggData": [],
              "aggError": "",
              "aggOverflow": false,
              "aggSchema": [],
              "aggSeriesLimitReached": false,
              "aggType": "",
              "arguments": {},
              "columnCustomDisplayInfos": {},
              "data": [],
              "datasetInfos": [],
              "dbfsResultPath": null,
              "isJsonSchema": true,
              "metadata": {
                "dataframeName": null
              },
              "overflow": false,
              "plotOptions": {
                "customPlotOptions": {},
                "displayType": "table",
                "pivotAggregation": null,
                "pivotColumns": null,
                "xColumns": null,
                "yColumns": null
              },
              "removedWidgets": [],
              "schema": [],
              "type": "table"
            }
          }
        }
      ],
      "source": [
        "%sql\n",
        "--Criação de uma tabela bronze para arquitetura Medallium\n",
        "DROP TABLE IF EXISTS bronze_general_table;"
      ]
    },
    {
      "cell_type": "code",
      "execution_count": null,
      "metadata": {
        "application/vnd.databricks.v1+cell": {
          "cellMetadata": {
            "byteLimit": 2048000,
            "rowLimit": 10000
          },
          "inputWidgets": {},
          "nuid": "cdbbac30-42ca-48e1-bd22-5f52b161245f",
          "showTitle": false,
          "title": ""
        },
        "id": "zECtOifNE-RB"
      },
      "outputs": [],
      "source": [
        "# Ler o CSV e gravar em uma tabela bronze\n",
        "dataset_spark = spark.read.csv(csv_path)\n",
        "dataset_spark.write.mode(\"overwrite\").saveAsTable(\"bronze_general_table\")"
      ]
    },
    {
      "cell_type": "markdown",
      "metadata": {
        "application/vnd.databricks.v1+cell": {
          "cellMetadata": {
            "byteLimit": 2048000,
            "rowLimit": 10000
          },
          "inputWidgets": {},
          "nuid": "e62547ab-6d6b-4243-a6f3-38e714452ce2",
          "showTitle": false,
          "title": ""
        },
        "id": "XhxDcyinE-RC"
      },
      "source": [
        "Por se tratar de uma camada \"Bronze\", apenas copiei os dados de origem do Amazon S3 Storage trazendo-o íntegro para análise e armazendo como raw na camada Bronze. Após gravar as informações na tabela bronze segui fazendo uma avaliação breve do conteúdo da tabela através do dataset usando pySpark."
      ]
    },
    {
      "cell_type": "code",
      "execution_count": null,
      "metadata": {
        "application/vnd.databricks.v1+cell": {
          "cellMetadata": {
            "byteLimit": 2048000,
            "rowLimit": 10000
          },
          "inputWidgets": {},
          "nuid": "60bc47b0-1c1f-4102-9867-46d5a25ef7ff",
          "showTitle": false,
          "title": ""
        },
        "id": "fU6DNtcQE-RC",
        "outputId": "6e9ec9ae-acbf-4f18-ce4a-f2c94b357d5d"
      },
      "outputs": [
        {
          "output_type": "display_data",
          "data": {
            "text/html": [
              "<style scoped>\n",
              "  .table-result-container {\n",
              "    max-height: 300px;\n",
              "    overflow: auto;\n",
              "  }\n",
              "  table, th, td {\n",
              "    border: 1px solid black;\n",
              "    border-collapse: collapse;\n",
              "  }\n",
              "  th, td {\n",
              "    padding: 5px;\n",
              "  }\n",
              "  th {\n",
              "    text-align: left;\n",
              "  }\n",
              "</style><div class='table-result-container'><table class='table-result'><thead style='background-color: white'><tr><th>summary</th><th>_c0</th><th>_c1</th><th>_c2</th><th>_c3</th><th>_c4</th><th>_c5</th><th>_c6</th><th>_c7</th><th>_c8</th><th>_c9</th><th>_c10</th><th>_c11</th></tr></thead><tbody><tr><td>count</td><td>10001</td><td>10001</td><td>10001</td><td>10001</td><td>10001</td><td>10001</td><td>10001</td><td>10001</td><td>10001</td><td>10001</td><td>10001</td><td>10001</td></tr><tr><td>mean</td><td>1.56909405694E7</td><td>650.5288</td><td>null</td><td>null</td><td>38.9218</td><td>5.0128</td><td>76485.88928799999</td><td>1.5302</td><td>0.7055</td><td>0.5151</td><td>100090.23988099997</td><td>0.2037</td></tr><tr><td>stddev</td><td>71936.18612274846</td><td>96.65329873613044</td><td>null</td><td>null</td><td>10.487806451704616</td><td>2.8921743770496855</td><td>62397.405202385664</td><td>0.5816543579989899</td><td>0.45584046447513055</td><td>0.49979692845891177</td><td>57510.49281769815</td><td>0.4027685839948687</td></tr><tr><td>min</td><td>15565701</td><td>350</td><td>France</td><td>Female</td><td>18</td><td>0</td><td>0</td><td>1</td><td>0</td><td>0</td><td>100015.79</td><td>0</td></tr><tr><td>max</td><td>customer_id</td><td>credit_score</td><td>country</td><td>gender</td><td>age</td><td>tenure</td><td>balance</td><td>products_number</td><td>credit_card</td><td>active_member</td><td>estimated_salary</td><td>churn</td></tr></tbody></table></div>"
            ]
          },
          "metadata": {
            "application/vnd.databricks.v1+output": {
              "addedWidgets": {},
              "aggData": [],
              "aggError": "",
              "aggOverflow": false,
              "aggSchema": [],
              "aggSeriesLimitReached": false,
              "aggType": "",
              "arguments": {},
              "columnCustomDisplayInfos": {},
              "data": [
                [
                  "count",
                  "10001",
                  "10001",
                  "10001",
                  "10001",
                  "10001",
                  "10001",
                  "10001",
                  "10001",
                  "10001",
                  "10001",
                  "10001",
                  "10001"
                ],
                [
                  "mean",
                  "1.56909405694E7",
                  "650.5288",
                  null,
                  null,
                  "38.9218",
                  "5.0128",
                  "76485.88928799999",
                  "1.5302",
                  "0.7055",
                  "0.5151",
                  "100090.23988099997",
                  "0.2037"
                ],
                [
                  "stddev",
                  "71936.18612274846",
                  "96.65329873613044",
                  null,
                  null,
                  "10.487806451704616",
                  "2.8921743770496855",
                  "62397.405202385664",
                  "0.5816543579989899",
                  "0.45584046447513055",
                  "0.49979692845891177",
                  "57510.49281769815",
                  "0.4027685839948687"
                ],
                [
                  "min",
                  "15565701",
                  "350",
                  "France",
                  "Female",
                  "18",
                  "0",
                  "0",
                  "1",
                  "0",
                  "0",
                  "100015.79",
                  "0"
                ],
                [
                  "max",
                  "customer_id",
                  "credit_score",
                  "country",
                  "gender",
                  "age",
                  "tenure",
                  "balance",
                  "products_number",
                  "credit_card",
                  "active_member",
                  "estimated_salary",
                  "churn"
                ]
              ],
              "datasetInfos": [],
              "dbfsResultPath": null,
              "isJsonSchema": true,
              "metadata": {},
              "overflow": false,
              "plotOptions": {
                "customPlotOptions": {},
                "displayType": "table",
                "pivotAggregation": null,
                "pivotColumns": null,
                "xColumns": null,
                "yColumns": null
              },
              "removedWidgets": [],
              "schema": [
                {
                  "metadata": "{}",
                  "name": "summary",
                  "type": "\"string\""
                },
                {
                  "metadata": "{}",
                  "name": "_c0",
                  "type": "\"string\""
                },
                {
                  "metadata": "{}",
                  "name": "_c1",
                  "type": "\"string\""
                },
                {
                  "metadata": "{}",
                  "name": "_c2",
                  "type": "\"string\""
                },
                {
                  "metadata": "{}",
                  "name": "_c3",
                  "type": "\"string\""
                },
                {
                  "metadata": "{}",
                  "name": "_c4",
                  "type": "\"string\""
                },
                {
                  "metadata": "{}",
                  "name": "_c5",
                  "type": "\"string\""
                },
                {
                  "metadata": "{}",
                  "name": "_c6",
                  "type": "\"string\""
                },
                {
                  "metadata": "{}",
                  "name": "_c7",
                  "type": "\"string\""
                },
                {
                  "metadata": "{}",
                  "name": "_c8",
                  "type": "\"string\""
                },
                {
                  "metadata": "{}",
                  "name": "_c9",
                  "type": "\"string\""
                },
                {
                  "metadata": "{}",
                  "name": "_c10",
                  "type": "\"string\""
                },
                {
                  "metadata": "{}",
                  "name": "_c11",
                  "type": "\"string\""
                }
              ],
              "type": "table"
            }
          }
        }
      ],
      "source": [
        "# Mostrando o sumário estátisco do dataset\n",
        "display(dataset_spark.describe())"
      ]
    },
    {
      "cell_type": "code",
      "execution_count": null,
      "metadata": {
        "application/vnd.databricks.v1+cell": {
          "cellMetadata": {
            "byteLimit": 2048000,
            "rowLimit": 10000
          },
          "inputWidgets": {},
          "nuid": "4a7dc8a9-3d75-4262-a017-2da5de38e5e5",
          "showTitle": false,
          "title": ""
        },
        "id": "_bespC3nE-RC",
        "outputId": "1c42a8f9-a104-4ef0-8ec2-7b1e3b40727a"
      },
      "outputs": [
        {
          "output_type": "display_data",
          "data": {
            "text/html": [
              "<style scoped>\n",
              "  .table-result-container {\n",
              "    max-height: 300px;\n",
              "    overflow: auto;\n",
              "  }\n",
              "  table, th, td {\n",
              "    border: 1px solid black;\n",
              "    border-collapse: collapse;\n",
              "  }\n",
              "  th, td {\n",
              "    padding: 5px;\n",
              "  }\n",
              "  th {\n",
              "    text-align: left;\n",
              "  }\n",
              "</style><div class='table-result-container'><table class='table-result'><thead style='background-color: white'><tr><th>_c0</th><th>_c1</th><th>_c2</th><th>_c3</th><th>_c4</th><th>_c5</th><th>_c6</th><th>_c7</th><th>_c8</th><th>_c9</th><th>_c10</th><th>_c11</th></tr></thead><tbody><tr><td>0</td><td>0</td><td>0</td><td>0</td><td>0</td><td>0</td><td>0</td><td>0</td><td>0</td><td>0</td><td>0</td><td>0</td></tr></tbody></table></div>"
            ]
          },
          "metadata": {
            "application/vnd.databricks.v1+output": {
              "addedWidgets": {},
              "aggData": [],
              "aggError": "",
              "aggOverflow": false,
              "aggSchema": [],
              "aggSeriesLimitReached": false,
              "aggType": "",
              "arguments": {},
              "columnCustomDisplayInfos": {},
              "data": [
                [
                  0,
                  0,
                  0,
                  0,
                  0,
                  0,
                  0,
                  0,
                  0,
                  0,
                  0,
                  0
                ]
              ],
              "datasetInfos": [],
              "dbfsResultPath": null,
              "isJsonSchema": true,
              "metadata": {},
              "overflow": false,
              "plotOptions": {
                "customPlotOptions": {},
                "displayType": "table",
                "pivotAggregation": null,
                "pivotColumns": null,
                "xColumns": null,
                "yColumns": null
              },
              "removedWidgets": [],
              "schema": [
                {
                  "metadata": "{}",
                  "name": "_c0",
                  "type": "\"long\""
                },
                {
                  "metadata": "{}",
                  "name": "_c1",
                  "type": "\"long\""
                },
                {
                  "metadata": "{}",
                  "name": "_c2",
                  "type": "\"long\""
                },
                {
                  "metadata": "{}",
                  "name": "_c3",
                  "type": "\"long\""
                },
                {
                  "metadata": "{}",
                  "name": "_c4",
                  "type": "\"long\""
                },
                {
                  "metadata": "{}",
                  "name": "_c5",
                  "type": "\"long\""
                },
                {
                  "metadata": "{}",
                  "name": "_c6",
                  "type": "\"long\""
                },
                {
                  "metadata": "{}",
                  "name": "_c7",
                  "type": "\"long\""
                },
                {
                  "metadata": "{}",
                  "name": "_c8",
                  "type": "\"long\""
                },
                {
                  "metadata": "{}",
                  "name": "_c9",
                  "type": "\"long\""
                },
                {
                  "metadata": "{}",
                  "name": "_c10",
                  "type": "\"long\""
                },
                {
                  "metadata": "{}",
                  "name": "_c11",
                  "type": "\"long\""
                }
              ],
              "type": "table"
            }
          }
        }
      ],
      "source": [
        "# Avaliando possível conteúdo  IsNull\n",
        "null_counts = dataset_spark.select([sum(col(c).isNull().cast(\"int\")).alias(c) for c in dataset_spark.columns])\n",
        "\n",
        "display(null_counts)"
      ]
    },
    {
      "cell_type": "code",
      "execution_count": null,
      "metadata": {
        "application/vnd.databricks.v1+cell": {
          "cellMetadata": {
            "byteLimit": 2048000,
            "rowLimit": 10000
          },
          "inputWidgets": {},
          "nuid": "f5fa2d8a-4cf5-4e5a-9d9e-0bc0b057b2c8",
          "showTitle": false,
          "title": ""
        },
        "id": "nv0EWEy6E-RC",
        "outputId": "965acf79-9621-4118-caed-a2cebb0d9f0c"
      },
      "outputs": [
        {
          "output_type": "display_data",
          "data": {
            "text/plain": [
              "0"
            ]
          },
          "metadata": {}
        }
      ],
      "source": [
        "# Group by all columns to find duplicates\n",
        "duplicates = dataset_spark.groupBy(dataset_spark.columns) \\\n",
        "    .count() \\\n",
        "    .where(col(\"count\") > 1)\n",
        "\n",
        "# Display the count of duplicate rows\n",
        "duplicate_count = duplicates.count()\n",
        "display(duplicate_count)"
      ]
    },
    {
      "cell_type": "code",
      "execution_count": null,
      "metadata": {
        "application/vnd.databricks.v1+cell": {
          "cellMetadata": {
            "byteLimit": 2048000,
            "implicitDf": true,
            "rowLimit": 10000
          },
          "inputWidgets": {},
          "nuid": "7dfc8863-d18e-4694-b89c-b13eb155f48b",
          "showTitle": false,
          "title": ""
        },
        "id": "8YzUUPJ9E-RC",
        "outputId": "13b0432e-dc20-4b37-a4d1-db58721cc40a"
      },
      "outputs": [
        {
          "output_type": "display_data",
          "data": {
            "text/html": [
              "<style scoped>\n",
              "  .table-result-container {\n",
              "    max-height: 300px;\n",
              "    overflow: auto;\n",
              "  }\n",
              "  table, th, td {\n",
              "    border: 1px solid black;\n",
              "    border-collapse: collapse;\n",
              "  }\n",
              "  th, td {\n",
              "    padding: 5px;\n",
              "  }\n",
              "  th {\n",
              "    text-align: left;\n",
              "  }\n",
              "</style><div class='table-result-container'><table class='table-result'><thead style='background-color: white'><tr><th>_c0</th><th>_c1</th><th>_c2</th><th>_c3</th><th>_c4</th><th>_c5</th><th>_c6</th><th>_c7</th><th>_c8</th><th>_c9</th><th>_c10</th><th>_c11</th></tr></thead><tbody><tr><td>customer_id</td><td>credit_score</td><td>country</td><td>gender</td><td>age</td><td>tenure</td><td>balance</td><td>products_number</td><td>credit_card</td><td>active_member</td><td>estimated_salary</td><td>churn</td></tr><tr><td>15634602</td><td>619</td><td>France</td><td>Female</td><td>42</td><td>2</td><td>0</td><td>1</td><td>1</td><td>1</td><td>101348.88</td><td>1</td></tr><tr><td>15647311</td><td>608</td><td>Spain</td><td>Female</td><td>41</td><td>1</td><td>83807.86</td><td>1</td><td>0</td><td>1</td><td>112542.58</td><td>0</td></tr><tr><td>15619304</td><td>502</td><td>France</td><td>Female</td><td>42</td><td>8</td><td>159660.8</td><td>3</td><td>1</td><td>0</td><td>113931.57</td><td>1</td></tr><tr><td>15701354</td><td>699</td><td>France</td><td>Female</td><td>39</td><td>1</td><td>0</td><td>2</td><td>0</td><td>0</td><td>93826.63</td><td>0</td></tr><tr><td>15737888</td><td>850</td><td>Spain</td><td>Female</td><td>43</td><td>2</td><td>125510.82</td><td>1</td><td>1</td><td>1</td><td>79084.1</td><td>0</td></tr><tr><td>15574012</td><td>645</td><td>Spain</td><td>Male</td><td>44</td><td>8</td><td>113755.78</td><td>2</td><td>1</td><td>0</td><td>149756.71</td><td>1</td></tr><tr><td>15592531</td><td>822</td><td>France</td><td>Male</td><td>50</td><td>7</td><td>0</td><td>2</td><td>1</td><td>1</td><td>10062.8</td><td>0</td></tr><tr><td>15656148</td><td>376</td><td>Germany</td><td>Female</td><td>29</td><td>4</td><td>115046.74</td><td>4</td><td>1</td><td>0</td><td>119346.88</td><td>1</td></tr><tr><td>15792365</td><td>501</td><td>France</td><td>Male</td><td>44</td><td>4</td><td>142051.07</td><td>2</td><td>0</td><td>1</td><td>74940.5</td><td>0</td></tr></tbody></table></div>"
            ]
          },
          "metadata": {
            "application/vnd.databricks.v1+output": {
              "addedWidgets": {},
              "aggData": [],
              "aggError": "",
              "aggOverflow": false,
              "aggSchema": [],
              "aggSeriesLimitReached": false,
              "aggType": "",
              "arguments": {},
              "columnCustomDisplayInfos": {},
              "data": [
                [
                  "customer_id",
                  "credit_score",
                  "country",
                  "gender",
                  "age",
                  "tenure",
                  "balance",
                  "products_number",
                  "credit_card",
                  "active_member",
                  "estimated_salary",
                  "churn"
                ],
                [
                  "15634602",
                  "619",
                  "France",
                  "Female",
                  "42",
                  "2",
                  "0",
                  "1",
                  "1",
                  "1",
                  "101348.88",
                  "1"
                ],
                [
                  "15647311",
                  "608",
                  "Spain",
                  "Female",
                  "41",
                  "1",
                  "83807.86",
                  "1",
                  "0",
                  "1",
                  "112542.58",
                  "0"
                ],
                [
                  "15619304",
                  "502",
                  "France",
                  "Female",
                  "42",
                  "8",
                  "159660.8",
                  "3",
                  "1",
                  "0",
                  "113931.57",
                  "1"
                ],
                [
                  "15701354",
                  "699",
                  "France",
                  "Female",
                  "39",
                  "1",
                  "0",
                  "2",
                  "0",
                  "0",
                  "93826.63",
                  "0"
                ],
                [
                  "15737888",
                  "850",
                  "Spain",
                  "Female",
                  "43",
                  "2",
                  "125510.82",
                  "1",
                  "1",
                  "1",
                  "79084.1",
                  "0"
                ],
                [
                  "15574012",
                  "645",
                  "Spain",
                  "Male",
                  "44",
                  "8",
                  "113755.78",
                  "2",
                  "1",
                  "0",
                  "149756.71",
                  "1"
                ],
                [
                  "15592531",
                  "822",
                  "France",
                  "Male",
                  "50",
                  "7",
                  "0",
                  "2",
                  "1",
                  "1",
                  "10062.8",
                  "0"
                ],
                [
                  "15656148",
                  "376",
                  "Germany",
                  "Female",
                  "29",
                  "4",
                  "115046.74",
                  "4",
                  "1",
                  "0",
                  "119346.88",
                  "1"
                ],
                [
                  "15792365",
                  "501",
                  "France",
                  "Male",
                  "44",
                  "4",
                  "142051.07",
                  "2",
                  "0",
                  "1",
                  "74940.5",
                  "0"
                ]
              ],
              "datasetInfos": [],
              "dbfsResultPath": null,
              "isJsonSchema": true,
              "metadata": {
                "dataframeName": "_sqldf",
                "executionCount": 50
              },
              "overflow": false,
              "plotOptions": {
                "customPlotOptions": {},
                "displayType": "table",
                "pivotAggregation": null,
                "pivotColumns": null,
                "xColumns": null,
                "yColumns": null
              },
              "removedWidgets": [],
              "schema": [
                {
                  "metadata": "{}",
                  "name": "_c0",
                  "type": "\"string\""
                },
                {
                  "metadata": "{}",
                  "name": "_c1",
                  "type": "\"string\""
                },
                {
                  "metadata": "{}",
                  "name": "_c2",
                  "type": "\"string\""
                },
                {
                  "metadata": "{}",
                  "name": "_c3",
                  "type": "\"string\""
                },
                {
                  "metadata": "{}",
                  "name": "_c4",
                  "type": "\"string\""
                },
                {
                  "metadata": "{}",
                  "name": "_c5",
                  "type": "\"string\""
                },
                {
                  "metadata": "{}",
                  "name": "_c6",
                  "type": "\"string\""
                },
                {
                  "metadata": "{}",
                  "name": "_c7",
                  "type": "\"string\""
                },
                {
                  "metadata": "{}",
                  "name": "_c8",
                  "type": "\"string\""
                },
                {
                  "metadata": "{}",
                  "name": "_c9",
                  "type": "\"string\""
                },
                {
                  "metadata": "{}",
                  "name": "_c10",
                  "type": "\"string\""
                },
                {
                  "metadata": "{}",
                  "name": "_c11",
                  "type": "\"string\""
                }
              ],
              "type": "table"
            }
          }
        }
      ],
      "source": [
        "%sql\n",
        "--Demonstrando os dados existentes nesta tabela usando o comando Select do SQL e limitando a 10 registros\n",
        "SELECT * FROM bronze_general_table LIMIT 10"
      ]
    },
    {
      "cell_type": "markdown",
      "metadata": {
        "application/vnd.databricks.v1+cell": {
          "cellMetadata": {},
          "inputWidgets": {},
          "nuid": "5d6b8e7a-48f0-40cd-9e85-f15656c66cd0",
          "showTitle": false,
          "title": ""
        },
        "id": "H0mLLhsPE-RC"
      },
      "source": [
        "Percebemos que o conteúdo de NA ou ISNull para este dataset é vazio para todos os campos. O resultado da avaliação de duplicados é 0. Ou seja, temos um dataset de 10.000 linhas onde todas as colunas são preenchidas e nenhuma linha está duplicada."
      ]
    },
    {
      "cell_type": "markdown",
      "metadata": {
        "application/vnd.databricks.v1+cell": {
          "cellMetadata": {},
          "inputWidgets": {},
          "nuid": "da6ae4e8-0d37-493d-bd04-6ccbf25ce638",
          "showTitle": false,
          "title": ""
        },
        "id": "TIitAS2aE-RC"
      },
      "source": [
        "Analisando o resumo estatístico, avalianção de IsNull e duplicados podemos perceber que:\n",
        "\n",
        "Os campos com valor mínimo zero não indicam serem valores nulos, visto que para todos eles é possível que o valor seja zero e não nulo ('Ternure\" = cliente com menos de 1 ano na base, 'Balance' = cliente com saldo zero em conta).\n",
        "Mais pra frente farei uma avalição mais profunda em relação a ocorrência de Balance 0.\n",
        "Para os demais campos os valores mínimo igual a zero encontrados podem estar sendo tratados como encoding ou são binários, como 'Credit_Card' ou 'Churn', visto que seus valores máximo são iguais a 1.\n",
        "O valor mínimo para 'Age' é 18, o que é possível considerando que esta deve ser a idade mínima Mundial considerada para que alguém possa abrir uma conta bancária."
      ]
    },
    {
      "cell_type": "markdown",
      "metadata": {
        "application/vnd.databricks.v1+cell": {
          "cellMetadata": {},
          "inputWidgets": {},
          "nuid": "5574a84a-df94-4e46-bd62-a66a15d79946",
          "showTitle": false,
          "title": ""
        },
        "id": "4aA58LrhE-RC"
      },
      "source": [
        "## Criação de uma Arquitetura Medallium\n",
        "Camada Silver\n",
        "\n",
        "Transformação dos Dados"
      ]
    },
    {
      "cell_type": "markdown",
      "metadata": {
        "application/vnd.databricks.v1+cell": {
          "cellMetadata": {},
          "inputWidgets": {},
          "nuid": "af8da4af-f9e0-43ac-a3e8-c4a2afd5f479",
          "showTitle": false,
          "title": ""
        },
        "id": "RQbeXyVKE-RD"
      },
      "source": [
        "Tratamento de Missings e Limpeza\n",
        "\n",
        "Observamos na etapa de Análise de Dados que o dataset Bank Churn não tem missings aparentes, nem valores \"0\" que possam aparentar serem missings. Entendo que o campo 'balance' pode realmente conter o valor 0 considerando que em algum momento o cliente pode simplesmente não ter valor em conta.\n",
        "\n",
        "Considerando que, em uma situação real, estes dados possam ser usados pela camada de business da companhia, por exemplo para projetos de Machine Learning, criarei uma nova tabela materializando uma camada Silver transformando dados das colunas 'age' e 'tenure' em faixas de dados para reduzir o volume dos dados a serem manipulados pelo modelo.\n",
        "\n",
        "Também removerei a coluna 'customer_id', pois considero que esta não é uma informação relante para a análise e com o intuito de tornar o dado ainda mais anonimizado e o rol de análise menor e portanto mais leve para o Modelo Preditivo. Removerei também as colunas 'age' e 'tenure' após transformar os dados das mesmas em faixas para reduzir o volume dos dados a serem manipulados pelo modelo. Nenhuma outra coluna e nenhuma linha serão removidas, pois entendo que todos os atributos atuais possam ser relevantes para uma futura análise preditiva. Entretanto irei rebalancear a variável alvo desta análise 'churn'.\n",
        "\n"
      ]
    },
    {
      "cell_type": "code",
      "execution_count": null,
      "metadata": {
        "application/vnd.databricks.v1+cell": {
          "cellMetadata": {
            "byteLimit": 2048000,
            "implicitDf": true,
            "rowLimit": 10000
          },
          "inputWidgets": {},
          "nuid": "40d84625-e2cb-4045-a224-2087ac5e2e9d",
          "showTitle": false,
          "title": ""
        },
        "id": "q7nX7EQmE-RD",
        "outputId": "810ad807-4e21-4ca1-bd54-98c4af42a6e6"
      },
      "outputs": [
        {
          "output_type": "display_data",
          "data": {
            "text/html": [
              "<style scoped>\n",
              "  .table-result-container {\n",
              "    max-height: 300px;\n",
              "    overflow: auto;\n",
              "  }\n",
              "  table, th, td {\n",
              "    border: 1px solid black;\n",
              "    border-collapse: collapse;\n",
              "  }\n",
              "  th, td {\n",
              "    padding: 5px;\n",
              "  }\n",
              "  th {\n",
              "    text-align: left;\n",
              "  }\n",
              "</style><div class='table-result-container'><table class='table-result'><thead style='background-color: white'><tr></tr></thead><tbody></tbody></table></div>"
            ]
          },
          "metadata": {
            "application/vnd.databricks.v1+output": {
              "addedWidgets": {},
              "aggData": [],
              "aggError": "",
              "aggOverflow": false,
              "aggSchema": [],
              "aggSeriesLimitReached": false,
              "aggType": "",
              "arguments": {},
              "columnCustomDisplayInfos": {},
              "data": [],
              "datasetInfos": [],
              "dbfsResultPath": null,
              "isJsonSchema": true,
              "metadata": {
                "dataframeName": null
              },
              "overflow": false,
              "plotOptions": {
                "customPlotOptions": {},
                "displayType": "table",
                "pivotAggregation": null,
                "pivotColumns": null,
                "xColumns": null,
                "yColumns": null
              },
              "removedWidgets": [],
              "schema": [],
              "type": "table"
            }
          }
        }
      ],
      "source": [
        "%sql\n",
        "--Criação de uma tabela silver para arquitetura Medallium\n",
        "DROP TABLE IF EXISTS silver_general_table;"
      ]
    },
    {
      "cell_type": "code",
      "execution_count": null,
      "metadata": {
        "application/vnd.databricks.v1+cell": {
          "cellMetadata": {
            "byteLimit": 2048000,
            "rowLimit": 10000
          },
          "inputWidgets": {},
          "nuid": "5148d244-6047-4eac-b465-7422d8355f98",
          "showTitle": false,
          "title": ""
        },
        "id": "E900wXzvE-RD",
        "outputId": "9361d3bb-be83-4215-b279-be542606cdf3"
      },
      "outputs": [
        {
          "output_type": "display_data",
          "data": {
            "text/html": [
              "<style scoped>\n",
              "  .table-result-container {\n",
              "    max-height: 300px;\n",
              "    overflow: auto;\n",
              "  }\n",
              "  table, th, td {\n",
              "    border: 1px solid black;\n",
              "    border-collapse: collapse;\n",
              "  }\n",
              "  th, td {\n",
              "    padding: 5px;\n",
              "  }\n",
              "  th {\n",
              "    text-align: left;\n",
              "  }\n",
              "</style><div class='table-result-container'><table class='table-result'><thead style='background-color: white'><tr><th>faixa_idade</th><th>count</th></tr></thead><tbody><tr><td>null</td><td>1</td></tr><tr><td>De 0 até 25 anos</td><td>611</td></tr><tr><td>De 26 até 35 anos</td><td>3542</td></tr><tr><td>De 36 até 50 anos</td><td>4586</td></tr><tr><td>De 51 até 60 anos</td><td>797</td></tr><tr><td>De 61 até 70 anos</td><td>331</td></tr><tr><td>De 71 até 80 anos</td><td>121</td></tr><tr><td>De 81 até 90 anos</td><td>10</td></tr><tr><td>De 91 até 100 anos</td><td>2</td></tr></tbody></table></div>"
            ]
          },
          "metadata": {
            "application/vnd.databricks.v1+output": {
              "addedWidgets": {},
              "aggData": [],
              "aggError": "",
              "aggOverflow": false,
              "aggSchema": [],
              "aggSeriesLimitReached": false,
              "aggType": "",
              "arguments": {},
              "columnCustomDisplayInfos": {},
              "data": [
                [
                  null,
                  1
                ],
                [
                  "De 0 até 25 anos",
                  611
                ],
                [
                  "De 26 até 35 anos",
                  3542
                ],
                [
                  "De 36 até 50 anos",
                  4586
                ],
                [
                  "De 51 até 60 anos",
                  797
                ],
                [
                  "De 61 até 70 anos",
                  331
                ],
                [
                  "De 71 até 80 anos",
                  121
                ],
                [
                  "De 81 até 90 anos",
                  10
                ],
                [
                  "De 91 até 100 anos",
                  2
                ]
              ],
              "datasetInfos": [],
              "dbfsResultPath": null,
              "isJsonSchema": true,
              "metadata": {},
              "overflow": false,
              "plotOptions": {
                "customPlotOptions": {},
                "displayType": "table",
                "pivotAggregation": null,
                "pivotColumns": null,
                "xColumns": null,
                "yColumns": null
              },
              "removedWidgets": [],
              "schema": [
                {
                  "metadata": "{}",
                  "name": "faixa_idade",
                  "type": "\"string\""
                },
                {
                  "metadata": "{}",
                  "name": "count",
                  "type": "\"long\""
                }
              ],
              "type": "table"
            }
          }
        }
      ],
      "source": [
        "# Criação de uma nova coluna 'faixa_idade'\n",
        "\n",
        "dataset_spark = dataset_spark.withColumn(\n",
        "    'faixa_idade',\n",
        "    when((col('_c4') >= -100) & (col('_c4') <= 25), 'De 0 até 25 anos')\n",
        "    .when((col('_c4') > 25) & (col('_c4') <= 35), 'De 26 até 35 anos')\n",
        "    .when((col('_c4') > 35) & (col('_c4') <= 50), 'De 36 até 50 anos')\n",
        "    .when((col('_c4') > 50) & (col('_c4') <= 60), 'De 51 até 60 anos')\n",
        "    .when((col('_c4') > 60) & (col('_c4') <= 70), 'De 61 até 70 anos')\n",
        "    .when((col('_c4') > 70) & (col('_c4') <= 80), 'De 71 até 80 anos')\n",
        "    .when((col('_c4') > 80) & (col('_c4') <= 90), 'De 81 até 90 anos')\n",
        "    .when((col('_c4') > 90) & (col('_c4') <= 100), 'De 91 até 100 anos')\n",
        "    .when((col('_c4') > 100), 'Maior que 100 anos')\n",
        "    .otherwise(None) # For ages outside the specified bins\n",
        ")\n",
        "\n",
        "faixa_idade_counts = dataset_spark.groupBy('faixa_idade').count().orderBy(col('faixa_idade').asc())\n",
        "\n",
        "display(faixa_idade_counts)"
      ]
    },
    {
      "cell_type": "code",
      "execution_count": null,
      "metadata": {
        "application/vnd.databricks.v1+cell": {
          "cellMetadata": {
            "byteLimit": 2048000,
            "rowLimit": 10000
          },
          "inputWidgets": {},
          "nuid": "f733a4b4-848b-4174-bca3-d4c21787a768",
          "showTitle": false,
          "title": ""
        },
        "id": "iVUB5-EmE-RD"
      },
      "outputs": [],
      "source": [
        "# Ler o CSV e gravar em uma tabela silver\n",
        "dataset_spark_silver = spark.createDataFrame(dataset_spark.toPandas())\n",
        "dataset_spark_silver.write.mode(\"overwrite\").saveAsTable(\"silver_general_table\")"
      ]
    },
    {
      "cell_type": "code",
      "execution_count": null,
      "metadata": {
        "application/vnd.databricks.v1+cell": {
          "cellMetadata": {
            "byteLimit": 2048000,
            "implicitDf": true,
            "rowLimit": 10000
          },
          "inputWidgets": {},
          "nuid": "28b412f5-b19a-4e13-9b87-9916bf79fdd6",
          "showTitle": false,
          "title": ""
        },
        "id": "6AaDYQkEE-RD",
        "outputId": "3ec92f9b-45de-49ae-b263-c795fb13452b"
      },
      "outputs": [
        {
          "output_type": "display_data",
          "data": {
            "text/html": [
              "<style scoped>\n",
              "  .table-result-container {\n",
              "    max-height: 300px;\n",
              "    overflow: auto;\n",
              "  }\n",
              "  table, th, td {\n",
              "    border: 1px solid black;\n",
              "    border-collapse: collapse;\n",
              "  }\n",
              "  th, td {\n",
              "    padding: 5px;\n",
              "  }\n",
              "  th {\n",
              "    text-align: left;\n",
              "  }\n",
              "</style><div class='table-result-container'><table class='table-result'><thead style='background-color: white'><tr><th>_c0</th><th>_c1</th><th>_c2</th><th>_c3</th><th>_c4</th><th>_c5</th><th>_c6</th><th>_c7</th><th>_c8</th><th>_c9</th><th>_c10</th><th>_c11</th><th>faixa_idade</th></tr></thead><tbody><tr><td>15710408</td><td>584</td><td>Spain</td><td>Female</td><td>38</td><td>3</td><td>0</td><td>2</td><td>1</td><td>1</td><td>4525.4</td><td>0</td><td>De 36 até 50 anos</td></tr><tr><td>15598695</td><td>834</td><td>Germany</td><td>Female</td><td>68</td><td>9</td><td>130169.27</td><td>2</td><td>0</td><td>1</td><td>93112.2</td><td>0</td><td>De 61 até 70 anos</td></tr><tr><td>15649354</td><td>754</td><td>Spain</td><td>Male</td><td>35</td><td>4</td><td>0</td><td>2</td><td>1</td><td>1</td><td>9658.41</td><td>0</td><td>De 26 até 35 anos</td></tr><tr><td>15737556</td><td>590</td><td>France</td><td>Male</td><td>43</td><td>7</td><td>81076.8</td><td>2</td><td>1</td><td>1</td><td>182627.25</td><td>1</td><td>De 36 até 50 anos</td></tr><tr><td>15671610</td><td>740</td><td>France</td><td>Male</td><td>36</td><td>7</td><td>0</td><td>1</td><td>1</td><td>1</td><td>13177.4</td><td>0</td><td>De 36 até 50 anos</td></tr><tr><td>15625092</td><td>502</td><td>Germany</td><td>Female</td><td>57</td><td>3</td><td>101465.31</td><td>1</td><td>1</td><td>0</td><td>43568.31</td><td>1</td><td>De 51 até 60 anos</td></tr><tr><td>15741032</td><td>733</td><td>France</td><td>Male</td><td>48</td><td>5</td><td>0</td><td>1</td><td>0</td><td>1</td><td>117830.57</td><td>0</td><td>De 36 até 50 anos</td></tr><tr><td>15750014</td><td>755</td><td>Germany</td><td>Female</td><td>37</td><td>0</td><td>113865.23</td><td>2</td><td>1</td><td>1</td><td>117396.25</td><td>0</td><td>De 36 até 50 anos</td></tr><tr><td>15784761</td><td>554</td><td>Spain</td><td>Female</td><td>46</td><td>7</td><td>87603.35</td><td>3</td><td>0</td><td>1</td><td>96929.24</td><td>1</td><td>De 36 até 50 anos</td></tr><tr><td>15768359</td><td>534</td><td>France</td><td>Male</td><td>36</td><td>4</td><td>120037.96</td><td>1</td><td>1</td><td>0</td><td>36275.94</td><td>0</td><td>De 36 até 50 anos</td></tr></tbody></table></div>"
            ]
          },
          "metadata": {
            "application/vnd.databricks.v1+output": {
              "addedWidgets": {},
              "aggData": [],
              "aggError": "",
              "aggOverflow": false,
              "aggSchema": [],
              "aggSeriesLimitReached": false,
              "aggType": "",
              "arguments": {},
              "columnCustomDisplayInfos": {},
              "data": [
                [
                  "15710408",
                  "584",
                  "Spain",
                  "Female",
                  "38",
                  "3",
                  "0",
                  "2",
                  "1",
                  "1",
                  "4525.4",
                  "0",
                  "De 36 até 50 anos"
                ],
                [
                  "15598695",
                  "834",
                  "Germany",
                  "Female",
                  "68",
                  "9",
                  "130169.27",
                  "2",
                  "0",
                  "1",
                  "93112.2",
                  "0",
                  "De 61 até 70 anos"
                ],
                [
                  "15649354",
                  "754",
                  "Spain",
                  "Male",
                  "35",
                  "4",
                  "0",
                  "2",
                  "1",
                  "1",
                  "9658.41",
                  "0",
                  "De 26 até 35 anos"
                ],
                [
                  "15737556",
                  "590",
                  "France",
                  "Male",
                  "43",
                  "7",
                  "81076.8",
                  "2",
                  "1",
                  "1",
                  "182627.25",
                  "1",
                  "De 36 até 50 anos"
                ],
                [
                  "15671610",
                  "740",
                  "France",
                  "Male",
                  "36",
                  "7",
                  "0",
                  "1",
                  "1",
                  "1",
                  "13177.4",
                  "0",
                  "De 36 até 50 anos"
                ],
                [
                  "15625092",
                  "502",
                  "Germany",
                  "Female",
                  "57",
                  "3",
                  "101465.31",
                  "1",
                  "1",
                  "0",
                  "43568.31",
                  "1",
                  "De 51 até 60 anos"
                ],
                [
                  "15741032",
                  "733",
                  "France",
                  "Male",
                  "48",
                  "5",
                  "0",
                  "1",
                  "0",
                  "1",
                  "117830.57",
                  "0",
                  "De 36 até 50 anos"
                ],
                [
                  "15750014",
                  "755",
                  "Germany",
                  "Female",
                  "37",
                  "0",
                  "113865.23",
                  "2",
                  "1",
                  "1",
                  "117396.25",
                  "0",
                  "De 36 até 50 anos"
                ],
                [
                  "15784761",
                  "554",
                  "Spain",
                  "Female",
                  "46",
                  "7",
                  "87603.35",
                  "3",
                  "0",
                  "1",
                  "96929.24",
                  "1",
                  "De 36 até 50 anos"
                ],
                [
                  "15768359",
                  "534",
                  "France",
                  "Male",
                  "36",
                  "4",
                  "120037.96",
                  "1",
                  "1",
                  "0",
                  "36275.94",
                  "0",
                  "De 36 até 50 anos"
                ]
              ],
              "datasetInfos": [],
              "dbfsResultPath": null,
              "isJsonSchema": true,
              "metadata": {
                "dataframeName": "_sqldf",
                "executionCount": 78
              },
              "overflow": false,
              "plotOptions": {
                "customPlotOptions": {},
                "displayType": "table",
                "pivotAggregation": null,
                "pivotColumns": null,
                "xColumns": null,
                "yColumns": null
              },
              "removedWidgets": [],
              "schema": [
                {
                  "metadata": "{}",
                  "name": "_c0",
                  "type": "\"string\""
                },
                {
                  "metadata": "{}",
                  "name": "_c1",
                  "type": "\"string\""
                },
                {
                  "metadata": "{}",
                  "name": "_c2",
                  "type": "\"string\""
                },
                {
                  "metadata": "{}",
                  "name": "_c3",
                  "type": "\"string\""
                },
                {
                  "metadata": "{}",
                  "name": "_c4",
                  "type": "\"string\""
                },
                {
                  "metadata": "{}",
                  "name": "_c5",
                  "type": "\"string\""
                },
                {
                  "metadata": "{}",
                  "name": "_c6",
                  "type": "\"string\""
                },
                {
                  "metadata": "{}",
                  "name": "_c7",
                  "type": "\"string\""
                },
                {
                  "metadata": "{}",
                  "name": "_c8",
                  "type": "\"string\""
                },
                {
                  "metadata": "{}",
                  "name": "_c9",
                  "type": "\"string\""
                },
                {
                  "metadata": "{}",
                  "name": "_c10",
                  "type": "\"string\""
                },
                {
                  "metadata": "{}",
                  "name": "_c11",
                  "type": "\"string\""
                },
                {
                  "metadata": "{}",
                  "name": "faixa_idade",
                  "type": "\"string\""
                }
              ],
              "type": "table"
            }
          }
        }
      ],
      "source": [
        "%sql\n",
        "--Demonstrando os dados existentes na nova tabela silver usando o comando Select do SQL e limitando a 10 registros\n",
        "SELECT * FROM silver_general_table LIMIT 10"
      ]
    }
  ],
  "metadata": {
    "application/vnd.databricks.v1+notebook": {
      "dashboards": [],
      "environmentMetadata": null,
      "language": "python",
      "notebookMetadata": {
        "mostRecentlyExecutedCommandWithImplicitDF": {
          "commandId": 541309637683974,
          "dataframes": [
            "_sqldf"
          ]
        },
        "pythonIndentUnit": 4
      },
      "notebookName": "demo-dlt-python-batch",
      "widgets": {}
    },
    "colab": {
      "provenance": [],
      "include_colab_link": true
    }
  },
  "nbformat": 4,
  "nbformat_minor": 0
}