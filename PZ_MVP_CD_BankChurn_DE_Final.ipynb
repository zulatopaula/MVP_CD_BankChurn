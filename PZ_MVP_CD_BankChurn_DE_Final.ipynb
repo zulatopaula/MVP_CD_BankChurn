{
  "cells": [
    {
      "cell_type": "markdown",
      "metadata": {
        "id": "view-in-github",
        "colab_type": "text"
      },
      "source": [
        "<a href=\"https://colab.research.google.com/github/zulatopaula/MVP_CD_BankChurn/blob/main/PZ_MVP_CD_BankChurn_DE_Final.ipynb\" target=\"_parent\"><img src=\"https://colab.research.google.com/assets/colab-badge.svg\" alt=\"Open In Colab\"/></a>"
      ]
    },
    {
      "cell_type": "markdown",
      "metadata": {
        "application/vnd.databricks.v1+cell": {
          "cellMetadata": {
            "byteLimit": 2048000,
            "rowLimit": 10000
          },
          "inputWidgets": {},
          "nuid": "17dd3a8c-aa28-4b78-9997-7047ea6df22e",
          "showTitle": false,
          "title": ""
        },
        "id": "vyfcgwiCxPda"
      },
      "source": [
        "# MVP de Engenharia de Dados\n",
        "## Profs. Victor Almeida e Silvio Alonso\n",
        "### Aluna: Paula Zulato"
      ]
    },
    {
      "cell_type": "markdown",
      "metadata": {
        "application/vnd.databricks.v1+cell": {
          "cellMetadata": {
            "byteLimit": 2048000,
            "rowLimit": 10000
          },
          "inputWidgets": {},
          "nuid": "bccd1f00-6398-4f9d-8b4e-a64495adf953",
          "showTitle": false,
          "title": ""
        },
        "id": "pWqQJfa7xPdb"
      },
      "source": [
        "# 1. Introdução e Definição do Objetivo\n",
        "## Customer Churn\n",
        "Todo empresa quer manter seus clientes para sustentar seus negócios e com um banco não é diferente. Adquirir novos clientes tem um alto custo, normalmente maior que o custo de reter um cliente.\n",
        "Abaixo estão os dados dos clientes do ABC Multinational Bank e o objetivo da análise dos dados será prever a rotatividade de clientes (Churn Prediction).\n",
        "\n",
        "*\"O Churn é uma métrica que indica o quanto sua empresa perdeu de receita ou clientes. Para calcular o Churn, basta dividir a quantidade de clientes que perdeu até o final do período pelo total de clientes que iniciaram. Exemplo: se você perdeu 10 clientes de 100 = 10% de Churn Rate\" (Fonte: https://resultadosdigitais.com.br/marketing/o-que-e-churn/).*\n",
        "\n",
        "O dataset usado neste projeto será o Bank Customer Churn Data, com informações de correntintas do banco ABC Multinacional Bank referente a um período de um mês (31/07/2022 a 29/08/2022). O dataset apresenta diversos atributos relacionados a dados de cliente, os produtos bancários consumidos por estes clientes e o balanço da conta bancária. Também possui uma variável de classe binária (0 ou 1) que indica se em algum momento este cliente já deixou o banco por algum período (1) ou se ele nunca deixou o banco (0). Para mais detalhes sobre este dataset, consulte: https://www.kaggle.com/datasets/gauravtopre/bank-customer-churn-dataset/data\n",
        "\n",
        "**Informações sobre os atributos:**\n",
        "\n",
        "1. **customer_id** - Identificador único do cliente\n",
        "2. **credit_score** - Valor numérico que indica a saúde de crédito de um cliente, geralmente emitido por um Bureau de Crédito\n",
        "3. **country** - País de Origem de um cliente\n",
        "4. **gender** - Identificação de gênero do cliente\n",
        "5. **age** - Idade do cliente em anos\n",
        "6. **tenure** - Tempo de existência da conta em anos\n",
        "7. **balance** - Valor monetário total de depósito em conta\n",
        "8. **products_number** - A quantidade de produtos do banco que um cliente possui\n",
        "9. **credit_card** - Indica se o cliente possui cartão de crédito (1) ou não (0)\n",
        "10. **active_member** - Indica se o cliente está ativo (1) ou não (0)\n",
        "11. **estimated_salary** - Salário estimado do cliente\n",
        "12. **churn** - Indica se o cliente já deixou a base em algum momento (1) ou não (0)\n",
        "\n",
        "O objetivo deste estudo com fins didáticos é demonstrar a criação de um pipeline de dados usando o framework \"medallium\" através da plataforma de lakehouse Databricks com Delta Live Tables e montando uma stack de dados utilizando serviços AWS. Serão demonstrados o processo de coleta de dados, modelagem e carga. Então, algumas premissas de análise exploratória serão utilizadas para demonstrar o funcionamento desta infraestrutura e como um problemas de dados pode ser resolvido. Para o problema de dados, serão consideradas algumas premissas.\n",
        "\n",
        "Como premissas ou hipóteses sobre este problemas, poderíamos prever que o Churn de o cliente pode ser gerado por exemplo por questões econômicas como por exemplo a faixa salarial, ou pode estar relacionado a idade do cliente onde os mais jovens ou mais velhos podem ter uma frequência de abandono maior por ter uma renda não tão previsível ou que está ainda em crescimento (no caso dos mais jovens) ou que pode estar em declínio no caso dos mais velhos). O baixo Score de Crédito também pode ser um motivo para o Churn. Considerando estes pontos de hipóteses, seguirei primeiro com a demonstração da criação do pipeline de dados e depois para a análise dos dados.\n",
        "\n",
        "Observação: Lancei mão do Python em algumas situações por ter mais expertise nele que no SQL. Faço o 'disclaimer' de que o uso do SQL é mais adequado em situações reais considerando que ele é uma linguagem para gerenciar dados, especialmente em relational database management system. Particularmente útil para lidar com dados estruturadas."
      ]
    },
    {
      "cell_type": "markdown",
      "metadata": {
        "application/vnd.databricks.v1+cell": {
          "cellMetadata": {
            "byteLimit": 2048000,
            "rowLimit": 10000
          },
          "inputWidgets": {},
          "nuid": "401d393a-2f1b-4f33-bef5-1e4f77b5857d",
          "showTitle": false,
          "title": ""
        },
        "id": "QJYi9HbxxPdc"
      },
      "source": [
        "# 2. Coleta e armazenamento dos Dados\n",
        "## Coleta\n",
        "Optei por baixar o dataset do Kaggle e armazenar uma cópia dele no meu GitHub (https://github.com/zulatopaula/MVP_CD_BankChurn). O dataset que já vinha sendo utilizados para as outras duas sprints anteriores e foi carregado manualmente para um Storage na Cloud AWS usando o serviço \"Amazon S3 Storage\" de nome \"_databricks-workspace-stack-f4cd3-bucket_\". Para fins de segurança o Storage foi mantido como privado e utilizando o padrão de encriptação \"SSE-S3\".\n",
        "\n",
        "**Figura 1**\n",
        "\n",
        "\n",
        "## Armazenamento e transferência de dados\n",
        "Optei por realizar a comunicão entre a plataforma de lakehouse Databricks e a Cloud AWS comunicando meu bucket do \"Amazon S3 Storage\" diretamente com o serviço de Cluster da Databricks. Para isso, usei os serviços de _roles_ e policy da AWS para gerar esta comunicação com o meu Databricks Cluster, \"Paula Zulato's Cluster\". Usei a _role_ \"ec2_role\" e a _policy_ \"ec2_policy\". Optei pelo uso de um cluster Single Node para fins didáticos e por limitação de custos, porém, a depender do workload  que for gerado para um cenário real e a depender da criticidade e impacto que a falha deste workload possa gerar para o business em questão, é recomendada a utilização de um cluster multi-node mitigando falhas.\n",
        "\n",
        "**Figura 2**\n",
        "\n",
        "\n",
        "**Figura 3**\n",
        "\n",
        "\n"
      ]
    },
    {
      "cell_type": "markdown",
      "metadata": {
        "application/vnd.databricks.v1+cell": {
          "cellMetadata": {
            "byteLimit": 2048000,
            "rowLimit": 10000
          },
          "inputWidgets": {},
          "nuid": "2e811c72-cca0-4d62-bdad-25c34d572f53",
          "showTitle": false,
          "title": ""
        },
        "id": "PiyolO6cxPdc"
      },
      "source": [
        "%md\n",
        "# 3. Carga/ETL e Pipeline de Dados com framework Medallium\n",
        "## Carga\n",
        "Para a carga\n",
        "\n",
        "**Figura 1**\n",
        "\n",
        "\n",
        "## Armazenamento e transferência de dados\n",
        "Optei por realizar a comunicação entre a plataforma de lakehouse Databricks e a Cloud AWS comunicando meu bucket do \"Amazon S3 Storage\" diretamente com o serviço de Cluster da Databricks. Para isso, usei os serviços de _roles_ e policy da AWS para gerar esta comunicação com o meu Databricks Cluster, \"Paula Zulato's Cluster\". Usei a _role_ \"ec2_role\" e a _policy_ \"ec2_policy\".\n",
        "\n",
        "**Figura 2**\n",
        "\n",
        "\n",
        "**Figura 3**"
      ]
    },
    {
      "cell_type": "code",
      "execution_count": null,
      "metadata": {
        "application/vnd.databricks.v1+cell": {
          "cellMetadata": {
            "byteLimit": 2048000,
            "rowLimit": 10000
          },
          "inputWidgets": {},
          "nuid": "e20a1be2-b694-4470-b791-ff96a57bbd25",
          "showTitle": false,
          "title": ""
        },
        "id": "iw_c5NA-xPdc"
      },
      "outputs": [],
      "source": [
        "from pyspark.sql.functions import *\n",
        "from pyspark.sql.types import *\n",
        "import dlt"
      ]
    },
    {
      "cell_type": "code",
      "execution_count": null,
      "metadata": {
        "application/vnd.databricks.v1+cell": {
          "cellMetadata": {
            "byteLimit": 2048000,
            "rowLimit": 10000
          },
          "inputWidgets": {},
          "nuid": "fcecfd83-c671-4b9e-9f60-bbbe66b28e64",
          "showTitle": false,
          "title": ""
        },
        "id": "MWLCSIzixPdk"
      },
      "outputs": [],
      "source": [
        "#Comunicação com o Amazon S3 Storage para acessar o CSV\n",
        "csv_path = \"s3://databricks-workspace-stack-f4cd3-bucket/Bank_Customer_Churn_Prediction.csv\"\n"
      ]
    },
    {
      "cell_type": "code",
      "execution_count": null,
      "metadata": {
        "application/vnd.databricks.v1+cell": {
          "cellMetadata": {
            "byteLimit": 2048000,
            "implicitDf": true,
            "rowLimit": 10000
          },
          "inputWidgets": {},
          "nuid": "dc11a1b1-f006-47b8-a599-1e2aa13f4f7e",
          "showTitle": false,
          "title": ""
        },
        "id": "aBDo3CrtxPdk",
        "outputId": "dacb29a3-279f-43af-d464-f4974fc560ab"
      },
      "outputs": [
        {
          "output_type": "display_data",
          "data": {
            "text/html": [
              "<style scoped>\n",
              "  .table-result-container {\n",
              "    max-height: 300px;\n",
              "    overflow: auto;\n",
              "  }\n",
              "  table, th, td {\n",
              "    border: 1px solid black;\n",
              "    border-collapse: collapse;\n",
              "  }\n",
              "  th, td {\n",
              "    padding: 5px;\n",
              "  }\n",
              "  th {\n",
              "    text-align: left;\n",
              "  }\n",
              "</style><div class='table-result-container'><table class='table-result'><thead style='background-color: white'><tr></tr></thead><tbody></tbody></table></div>"
            ]
          },
          "metadata": {
            "application/vnd.databricks.v1+output": {
              "addedWidgets": {},
              "aggData": [],
              "aggError": "",
              "aggOverflow": false,
              "aggSchema": [],
              "aggSeriesLimitReached": false,
              "aggType": "",
              "arguments": {},
              "columnCustomDisplayInfos": {},
              "data": [],
              "datasetInfos": [],
              "dbfsResultPath": null,
              "isJsonSchema": true,
              "metadata": {
                "dataframeName": null
              },
              "overflow": false,
              "plotOptions": {
                "customPlotOptions": {},
                "displayType": "table",
                "pivotAggregation": null,
                "pivotColumns": null,
                "xColumns": null,
                "yColumns": null
              },
              "removedWidgets": [],
              "schema": [],
              "type": "table"
            }
          }
        }
      ],
      "source": [
        "%sql\n",
        "--Criação de uma tabela bronze para arquitetura Medallium\n",
        "DROP TABLE IF EXISTS bronze_general_table;"
      ]
    },
    {
      "cell_type": "code",
      "execution_count": null,
      "metadata": {
        "application/vnd.databricks.v1+cell": {
          "cellMetadata": {
            "byteLimit": 2048000,
            "rowLimit": 10000
          },
          "inputWidgets": {},
          "nuid": "cdbbac30-42ca-48e1-bd22-5f52b161245f",
          "showTitle": false,
          "title": ""
        },
        "id": "18GojV5cxPdk"
      },
      "outputs": [],
      "source": [
        "# Ler o CSV e gravar em uma tabela bronze\n",
        "dataset_spark = spark.read.csv(csv_path)\n",
        "dataset_spark.write.mode(\"overwrite\").saveAsTable(\"bronze_general_table\")"
      ]
    },
    {
      "cell_type": "markdown",
      "metadata": {
        "application/vnd.databricks.v1+cell": {
          "cellMetadata": {
            "byteLimit": 2048000,
            "rowLimit": 10000
          },
          "inputWidgets": {},
          "nuid": "e62547ab-6d6b-4243-a6f3-38e714452ce2",
          "showTitle": false,
          "title": ""
        },
        "id": "sGEd4lfbxPdl"
      },
      "source": [
        "Após gravar as informações na tabela bronze segui fazendo uma avaliação breve do conteúdo da tabela através do dataset usando pySpark. Optei por fazer uso de"
      ]
    },
    {
      "cell_type": "code",
      "execution_count": null,
      "metadata": {
        "application/vnd.databricks.v1+cell": {
          "cellMetadata": {
            "byteLimit": 2048000,
            "rowLimit": 10000
          },
          "inputWidgets": {},
          "nuid": "60bc47b0-1c1f-4102-9867-46d5a25ef7ff",
          "showTitle": false,
          "title": ""
        },
        "id": "sr4IyGsvxPdl",
        "outputId": "c46b555e-6fe4-49bc-a84c-86a1005da37d"
      },
      "outputs": [
        {
          "output_type": "display_data",
          "data": {
            "text/html": [
              "<style scoped>\n",
              "  .table-result-container {\n",
              "    max-height: 300px;\n",
              "    overflow: auto;\n",
              "  }\n",
              "  table, th, td {\n",
              "    border: 1px solid black;\n",
              "    border-collapse: collapse;\n",
              "  }\n",
              "  th, td {\n",
              "    padding: 5px;\n",
              "  }\n",
              "  th {\n",
              "    text-align: left;\n",
              "  }\n",
              "</style><div class='table-result-container'><table class='table-result'><thead style='background-color: white'><tr><th>summary</th><th>_c0</th><th>_c1</th><th>_c2</th><th>_c3</th><th>_c4</th><th>_c5</th><th>_c6</th><th>_c7</th><th>_c8</th><th>_c9</th><th>_c10</th><th>_c11</th></tr></thead><tbody><tr><td>count</td><td>10001</td><td>10001</td><td>10001</td><td>10001</td><td>10001</td><td>10001</td><td>10001</td><td>10001</td><td>10001</td><td>10001</td><td>10001</td><td>10001</td></tr><tr><td>mean</td><td>1.56909405694E7</td><td>650.5288</td><td>null</td><td>null</td><td>38.9218</td><td>5.0128</td><td>76485.88928799999</td><td>1.5302</td><td>0.7055</td><td>0.5151</td><td>100090.23988099997</td><td>0.2037</td></tr><tr><td>stddev</td><td>71936.18612274846</td><td>96.65329873613044</td><td>null</td><td>null</td><td>10.487806451704616</td><td>2.8921743770496855</td><td>62397.405202385664</td><td>0.5816543579989899</td><td>0.45584046447513055</td><td>0.49979692845891177</td><td>57510.49281769815</td><td>0.4027685839948687</td></tr><tr><td>min</td><td>15565701</td><td>350</td><td>France</td><td>Female</td><td>18</td><td>0</td><td>0</td><td>1</td><td>0</td><td>0</td><td>100015.79</td><td>0</td></tr><tr><td>max</td><td>customer_id</td><td>credit_score</td><td>country</td><td>gender</td><td>age</td><td>tenure</td><td>balance</td><td>products_number</td><td>credit_card</td><td>active_member</td><td>estimated_salary</td><td>churn</td></tr></tbody></table></div>"
            ]
          },
          "metadata": {
            "application/vnd.databricks.v1+output": {
              "addedWidgets": {},
              "aggData": [],
              "aggError": "",
              "aggOverflow": false,
              "aggSchema": [],
              "aggSeriesLimitReached": false,
              "aggType": "",
              "arguments": {},
              "columnCustomDisplayInfos": {},
              "data": [
                [
                  "count",
                  "10001",
                  "10001",
                  "10001",
                  "10001",
                  "10001",
                  "10001",
                  "10001",
                  "10001",
                  "10001",
                  "10001",
                  "10001",
                  "10001"
                ],
                [
                  "mean",
                  "1.56909405694E7",
                  "650.5288",
                  null,
                  null,
                  "38.9218",
                  "5.0128",
                  "76485.88928799999",
                  "1.5302",
                  "0.7055",
                  "0.5151",
                  "100090.23988099997",
                  "0.2037"
                ],
                [
                  "stddev",
                  "71936.18612274846",
                  "96.65329873613044",
                  null,
                  null,
                  "10.487806451704616",
                  "2.8921743770496855",
                  "62397.405202385664",
                  "0.5816543579989899",
                  "0.45584046447513055",
                  "0.49979692845891177",
                  "57510.49281769815",
                  "0.4027685839948687"
                ],
                [
                  "min",
                  "15565701",
                  "350",
                  "France",
                  "Female",
                  "18",
                  "0",
                  "0",
                  "1",
                  "0",
                  "0",
                  "100015.79",
                  "0"
                ],
                [
                  "max",
                  "customer_id",
                  "credit_score",
                  "country",
                  "gender",
                  "age",
                  "tenure",
                  "balance",
                  "products_number",
                  "credit_card",
                  "active_member",
                  "estimated_salary",
                  "churn"
                ]
              ],
              "datasetInfos": [],
              "dbfsResultPath": null,
              "isJsonSchema": true,
              "metadata": {},
              "overflow": false,
              "plotOptions": {
                "customPlotOptions": {},
                "displayType": "table",
                "pivotAggregation": null,
                "pivotColumns": null,
                "xColumns": null,
                "yColumns": null
              },
              "removedWidgets": [],
              "schema": [
                {
                  "metadata": "{}",
                  "name": "summary",
                  "type": "\"string\""
                },
                {
                  "metadata": "{}",
                  "name": "_c0",
                  "type": "\"string\""
                },
                {
                  "metadata": "{}",
                  "name": "_c1",
                  "type": "\"string\""
                },
                {
                  "metadata": "{}",
                  "name": "_c2",
                  "type": "\"string\""
                },
                {
                  "metadata": "{}",
                  "name": "_c3",
                  "type": "\"string\""
                },
                {
                  "metadata": "{}",
                  "name": "_c4",
                  "type": "\"string\""
                },
                {
                  "metadata": "{}",
                  "name": "_c5",
                  "type": "\"string\""
                },
                {
                  "metadata": "{}",
                  "name": "_c6",
                  "type": "\"string\""
                },
                {
                  "metadata": "{}",
                  "name": "_c7",
                  "type": "\"string\""
                },
                {
                  "metadata": "{}",
                  "name": "_c8",
                  "type": "\"string\""
                },
                {
                  "metadata": "{}",
                  "name": "_c9",
                  "type": "\"string\""
                },
                {
                  "metadata": "{}",
                  "name": "_c10",
                  "type": "\"string\""
                },
                {
                  "metadata": "{}",
                  "name": "_c11",
                  "type": "\"string\""
                }
              ],
              "type": "table"
            }
          }
        }
      ],
      "source": [
        "# Mostrando o sumário estátisco do dataset\n",
        "display(dataset_spark.describe())"
      ]
    },
    {
      "cell_type": "code",
      "execution_count": null,
      "metadata": {
        "application/vnd.databricks.v1+cell": {
          "cellMetadata": {
            "byteLimit": 2048000,
            "rowLimit": 10000
          },
          "inputWidgets": {},
          "nuid": "4a7dc8a9-3d75-4262-a017-2da5de38e5e5",
          "showTitle": false,
          "title": ""
        },
        "id": "eh_kUfR0xPdl",
        "outputId": "b757b4cd-9b4e-45a3-fbd8-0986b4dae38e"
      },
      "outputs": [
        {
          "output_type": "display_data",
          "data": {
            "text/html": [
              "<style scoped>\n",
              "  .table-result-container {\n",
              "    max-height: 300px;\n",
              "    overflow: auto;\n",
              "  }\n",
              "  table, th, td {\n",
              "    border: 1px solid black;\n",
              "    border-collapse: collapse;\n",
              "  }\n",
              "  th, td {\n",
              "    padding: 5px;\n",
              "  }\n",
              "  th {\n",
              "    text-align: left;\n",
              "  }\n",
              "</style><div class='table-result-container'><table class='table-result'><thead style='background-color: white'><tr><th>_c0</th><th>_c1</th><th>_c2</th><th>_c3</th><th>_c4</th><th>_c5</th><th>_c6</th><th>_c7</th><th>_c8</th><th>_c9</th><th>_c10</th><th>_c11</th></tr></thead><tbody><tr><td>0</td><td>0</td><td>0</td><td>0</td><td>0</td><td>0</td><td>0</td><td>0</td><td>0</td><td>0</td><td>0</td><td>0</td></tr></tbody></table></div>"
            ]
          },
          "metadata": {
            "application/vnd.databricks.v1+output": {
              "addedWidgets": {},
              "aggData": [],
              "aggError": "",
              "aggOverflow": false,
              "aggSchema": [],
              "aggSeriesLimitReached": false,
              "aggType": "",
              "arguments": {},
              "columnCustomDisplayInfos": {},
              "data": [
                [
                  0,
                  0,
                  0,
                  0,
                  0,
                  0,
                  0,
                  0,
                  0,
                  0,
                  0,
                  0
                ]
              ],
              "datasetInfos": [],
              "dbfsResultPath": null,
              "isJsonSchema": true,
              "metadata": {},
              "overflow": false,
              "plotOptions": {
                "customPlotOptions": {},
                "displayType": "table",
                "pivotAggregation": null,
                "pivotColumns": null,
                "xColumns": null,
                "yColumns": null
              },
              "removedWidgets": [],
              "schema": [
                {
                  "metadata": "{}",
                  "name": "_c0",
                  "type": "\"long\""
                },
                {
                  "metadata": "{}",
                  "name": "_c1",
                  "type": "\"long\""
                },
                {
                  "metadata": "{}",
                  "name": "_c2",
                  "type": "\"long\""
                },
                {
                  "metadata": "{}",
                  "name": "_c3",
                  "type": "\"long\""
                },
                {
                  "metadata": "{}",
                  "name": "_c4",
                  "type": "\"long\""
                },
                {
                  "metadata": "{}",
                  "name": "_c5",
                  "type": "\"long\""
                },
                {
                  "metadata": "{}",
                  "name": "_c6",
                  "type": "\"long\""
                },
                {
                  "metadata": "{}",
                  "name": "_c7",
                  "type": "\"long\""
                },
                {
                  "metadata": "{}",
                  "name": "_c8",
                  "type": "\"long\""
                },
                {
                  "metadata": "{}",
                  "name": "_c9",
                  "type": "\"long\""
                },
                {
                  "metadata": "{}",
                  "name": "_c10",
                  "type": "\"long\""
                },
                {
                  "metadata": "{}",
                  "name": "_c11",
                  "type": "\"long\""
                }
              ],
              "type": "table"
            }
          }
        }
      ],
      "source": [
        "# Avaliando possível conteúdo  IsNull\n",
        "null_counts = dataset_spark.select([sum(col(c).isNull().cast(\"int\")).alias(c) for c in dataset_spark.columns])\n",
        "\n",
        "display(null_counts)"
      ]
    }
  ],
  "metadata": {
    "application/vnd.databricks.v1+notebook": {
      "dashboards": [],
      "environmentMetadata": null,
      "language": "python",
      "notebookMetadata": {
        "mostRecentlyExecutedCommandWithImplicitDF": {
          "commandId": 541309637683888,
          "dataframes": [
            "_sqldf"
          ]
        },
        "pythonIndentUnit": 4
      },
      "notebookName": "demo-dlt-python-batch",
      "widgets": {}
    },
    "colab": {
      "provenance": [],
      "include_colab_link": true
    }
  },
  "nbformat": 4,
  "nbformat_minor": 0
}